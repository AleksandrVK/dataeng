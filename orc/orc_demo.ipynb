{
 "cells": [
  {
   "cell_type": "markdown",
   "metadata": {},
   "source": [
    "**Let us read ORC**\n",
    "\n",
    "Книжка с разбором ORC файла, предыстория и смысл - см блог (последняя ссылка ниже).\n",
    "\n",
    "Ссылки:\n",
    "\n",
    "* spec: https://orc.apache.org/specification/ORCv1/\n",
    "* protocol buffers: https://developers.google.com/protocol-buffers/docs/pythontutorial\n",
    "* orc proto: https://github.com/apache/hive/blob/trunk/ql/src/protobuf/org/apache/hadoop/hive/ql/io/orc/orc_proto.proto\n",
    "* apache orc: https://github.com/apache/orc\n",
    "* блог про это: http://wiki.alfastrah.ru/pages/viewpage.action?pageId=97983312"
   ]
  },
  {
   "cell_type": "code",
   "execution_count": 243,
   "metadata": {},
   "outputs": [],
   "source": [
    "import zlib # части файла могут быть сжаты..."
   ]
  },
  {
   "cell_type": "code",
   "execution_count": 244,
   "metadata": {},
   "outputs": [],
   "source": [
    "import orc_proto_pb2 # без этого - никуда, все метаданные хранятся в protobuf... пришлось сгенерить по github-у выше"
   ]
  },
  {
   "cell_type": "markdown",
   "metadata": {},
   "source": [
    "В качестве примера взят код с сайта проекта (https://orc.apache.org/docs/core-cpp.html), прямо из примера была создана \"табличка\" \n",
    "\n",
    "`struct<x:int,y:int>`\n",
    "\n",
    "и заполнена таким нехитрым образом\n",
    "\n",
    "`\n",
    "for (i = 0; i < 10000; ++i) { \n",
    "    x->data[rows] = i; \n",
    "    y->data[rows] = i * 3;\n",
    "}`\n",
    "\n",
    "Результат просто (`writer->add(*batch)`) засунули в батчи размером 1024 строк и записали в файл, который дальше будет читать и изучать."
   ]
  },
  {
   "cell_type": "code",
   "execution_count": 245,
   "metadata": {},
   "outputs": [
    {
     "data": {
      "text/plain": [
       "628"
      ]
     },
     "execution_count": 245,
     "metadata": {},
     "output_type": "execute_result"
    }
   ],
   "source": [
    "with open(\"my-file.orc\",\"rb\") as f:\n",
    "    buf = f.read()\n",
    "len(buf)"
   ]
  },
  {
   "cell_type": "markdown",
   "metadata": {},
   "source": [
    "Пока все бьется - размер файла 628 байт (как и обещали в блоге). И это - забегая вперед - безо всякой компрессии!\n",
    "\n",
    "Что дальше: как известно из спецификации, чтение начинается с хвоста: читаем PostScript. \n",
    "\n",
    "Для этого сначала считаем последний байт файла - он содержит размер PostScript-а, который (единственный из всех частей файла) никогда не сжимается."
   ]
  },
  {
   "cell_type": "markdown",
   "metadata": {},
   "source": [
    "**Часть 1: PostScript и Footer**\n",
    "\n",
    "считаем и распечатаем (protobuf предоставляет такую замечательную возможность - супер просто...)"
   ]
  },
  {
   "cell_type": "markdown",
   "metadata": {},
   "source": [
    "**Шаг 1: Postdcript**"
   ]
  },
  {
   "cell_type": "code",
   "execution_count": 246,
   "metadata": {},
   "outputs": [
    {
     "name": "stdout",
     "output_type": "stream",
     "text": [
      "psLen 23\n"
     ]
    }
   ],
   "source": [
    "psLen = buf[-1] # psLen\n",
    "print(\"psLen\",psLen)"
   ]
  },
  {
   "cell_type": "code",
   "execution_count": 247,
   "metadata": {},
   "outputs": [],
   "source": [
    "psBuf = buf[-psLen-1:-1]"
   ]
  },
  {
   "cell_type": "code",
   "execution_count": 248,
   "metadata": {},
   "outputs": [
    {
     "name": "stdout",
     "output_type": "stream",
     "text": [
      "footerLength: 115\n",
      "compression: NONE\n",
      "compressionBlockSize: 65536\n",
      "version: 0\n",
      "version: 12\n",
      "metadataLength: 50\n",
      "writerVersion: 4\n",
      "magic: \"ORC\"\n",
      "\n"
     ]
    }
   ],
   "source": [
    "pScript = orc_proto_pb2.PostScript()\n",
    "pScript.ParseFromString(psBuf)\n",
    "print(pScript)\n",
    "if pScript.compression not in [0,1]: # [NONE,ZLIB]\n",
    "    print(\"Compression unknown\")\n",
    "comprOffs = 3 if pScript.compression==1 else 0"
   ]
  },
  {
   "cell_type": "markdown",
   "metadata": {},
   "source": [
    "Что мы здесь видим:\n",
    "\n",
    "* файл не сжат (ZLIB я отключил в опциях создания файла)\n",
    "* размер футера и метаданных (будем использовать ниже)\n",
    "* версия \"писателя\": важно (!). в библиотеке стояло 6 (текущая на момент ее клонирования), в результате все падало: HIVE не знал, что \"бывают версии старше 4\". Пришлось код поправить...\n",
    "\n",
    "Остальное - просто так, для информации. Про сжатие - см. комментарии в блоге."
   ]
  },
  {
   "cell_type": "markdown",
   "metadata": {},
   "source": [
    "**Шаг 2: Footer**\n",
    "\n",
    "дальше читаем footer (обратите внимание на обработку сжатых файлов, хоть у нас и не сжат, но код рассчитан на все случаи)"
   ]
  },
  {
   "cell_type": "code",
   "execution_count": 186,
   "metadata": {},
   "outputs": [],
   "source": [
    "ftBuf = buf[-psLen-pScript.footerLength-1+comprOffs:-psLen-1]"
   ]
  },
  {
   "cell_type": "code",
   "execution_count": 187,
   "metadata": {},
   "outputs": [
    {
     "name": "stdout",
     "output_type": "stream",
     "text": [
      "headerLength: 3\n",
      "contentLength: 436\n",
      "stripes {\n",
      "  offset: 3\n",
      "  indexLength: 73\n",
      "  dataLength: 276\n",
      "  footerLength: 87\n",
      "  numberOfRows: 10000\n",
      "}\n",
      "types {\n",
      "  kind: STRUCT\n",
      "  subtypes: 1\n",
      "  subtypes: 2\n",
      "  fieldNames: \"x\"\n",
      "  fieldNames: \"y\"\n",
      "  maximumLength: 0\n",
      "  precision: 0\n",
      "  scale: 0\n",
      "}\n",
      "types {\n",
      "  kind: INT\n",
      "  maximumLength: 0\n",
      "  precision: 0\n",
      "  scale: 0\n",
      "}\n",
      "types {\n",
      "  kind: INT\n",
      "  maximumLength: 0\n",
      "  precision: 0\n",
      "  scale: 0\n",
      "}\n",
      "numberOfRows: 10000\n",
      "statistics {\n",
      "  numberOfValues: 10000\n",
      "  hasNull: false\n",
      "}\n",
      "statistics {\n",
      "  numberOfValues: 10000\n",
      "  intStatistics {\n",
      "    minimum: 0\n",
      "    maximum: 9999\n",
      "    sum: 49995000\n",
      "  }\n",
      "  hasNull: false\n",
      "}\n",
      "statistics {\n",
      "  numberOfValues: 10000\n",
      "  intStatistics {\n",
      "    minimum: 0\n",
      "    maximum: 29997\n",
      "    sum: 149985000\n",
      "  }\n",
      "  hasNull: false\n",
      "}\n",
      "rowIndexStride: 10000\n",
      "\n"
     ]
    }
   ],
   "source": [
    "footer = orc_proto_pb2.Footer()\n",
    "if pScript.compression==1: ftBuf = zlib.decompress(ftBuf,-zlib.MAX_WBITS)# inflate version!\n",
    "footer.ParseFromString(ftBuf)\n",
    "print(footer)"
   ]
  },
  {
   "cell_type": "markdown",
   "metadata": {},
   "source": [
    "Что интересного видим здесь\n",
    "\n",
    "* есть размеры всех частей (лучше смотреть код ниже и описание структуры в блоге)\n",
    "* страйп у нас получился 1\n",
    "* структура таблицы\n",
    "  * на верхнем уровне всегда struct\n",
    "  * далее - две колонки (x и y) целого типа\n",
    "* файловая статистика\n",
    "  * 10 000 строк\n",
    "  * по колоночно (нет нулей, мин, макс и сумма для каждой колонки)\n",
    "* последнее - размер блока строк, на которые в страйпе будет создан индекс (10 тыс, значение по умолчанию)"
   ]
  },
  {
   "cell_type": "markdown",
   "metadata": {},
   "source": [
    "**Шаг 3: Metadata**\n",
    "\n",
    "далее читаем метаданные"
   ]
  },
  {
   "cell_type": "code",
   "execution_count": 188,
   "metadata": {},
   "outputs": [],
   "source": [
    "metaBuf = buf[-psLen-pScript.footerLength-pScript.metadataLength-1+comprOffs:-psLen-pScript.footerLength-1]"
   ]
  },
  {
   "cell_type": "code",
   "execution_count": 189,
   "metadata": {},
   "outputs": [
    {
     "name": "stdout",
     "output_type": "stream",
     "text": [
      "stripeStats {\n",
      "  colStats {\n",
      "    numberOfValues: 10000\n",
      "    hasNull: false\n",
      "  }\n",
      "  colStats {\n",
      "    numberOfValues: 10000\n",
      "    intStatistics {\n",
      "      minimum: 0\n",
      "      maximum: 9999\n",
      "      sum: 49995000\n",
      "    }\n",
      "    hasNull: false\n",
      "  }\n",
      "  colStats {\n",
      "    numberOfValues: 10000\n",
      "    intStatistics {\n",
      "      minimum: 0\n",
      "      maximum: 29997\n",
      "      sum: 149985000\n",
      "    }\n",
      "    hasNull: false\n",
      "  }\n",
      "}\n",
      "\n"
     ]
    }
   ],
   "source": [
    "meta = orc_proto_pb2.Metadata()\n",
    "if pScript.compression==1: metaBuf = zlib.decompress(metaBuf,-zlib.MAX_WBITS)# inflate version!\n",
    "meta.ParseFromString(metaBuf)\n",
    "print(meta)"
   ]
  },
  {
   "cell_type": "markdown",
   "metadata": {},
   "source": [
    "Что интересного в метаданных\n",
    "\n",
    "статистика по каждому страйпу - у нас он один, поэтому только одна секция, значения совпадают со статистикой по файлу (а тип данных для статистик один - ColumnStatistics)."
   ]
  },
  {
   "cell_type": "markdown",
   "metadata": {},
   "source": [
    "**Часть 2: данные**"
   ]
  },
  {
   "cell_type": "markdown",
   "metadata": {},
   "source": [
    "**Шаг 1: Stripe Footer**\n",
    "\n",
    "Он уже содержится в страйпе (который у нас один)"
   ]
  },
  {
   "cell_type": "code",
   "execution_count": 190,
   "metadata": {},
   "outputs": [],
   "source": [
    "st = footer.stripes[0].offset+footer.stripes[0].indexLength+footer.stripes[0].dataLength\n",
    "fn = st + footer.stripes[0].footerLength\n",
    "stripeFtBuf = buf[st:fn]"
   ]
  },
  {
   "cell_type": "code",
   "execution_count": 191,
   "metadata": {},
   "outputs": [
    {
     "name": "stdout",
     "output_type": "stream",
     "text": [
      "streams {\n",
      "  kind: ROW_INDEX\n",
      "  column: 0\n",
      "  length: 14\n",
      "}\n",
      "streams {\n",
      "  kind: ROW_INDEX\n",
      "  column: 1\n",
      "  length: 29\n",
      "}\n",
      "streams {\n",
      "  kind: ROW_INDEX\n",
      "  column: 2\n",
      "  length: 30\n",
      "}\n",
      "streams {\n",
      "  kind: PRESENT\n",
      "  column: 0\n",
      "  length: 20\n",
      "}\n",
      "streams {\n",
      "  kind: PRESENT\n",
      "  column: 1\n",
      "  length: 20\n",
      "}\n",
      "streams {\n",
      "  kind: DATA\n",
      "  column: 1\n",
      "  length: 103\n",
      "}\n",
      "streams {\n",
      "  kind: PRESENT\n",
      "  column: 2\n",
      "  length: 20\n",
      "}\n",
      "streams {\n",
      "  kind: DATA\n",
      "  column: 2\n",
      "  length: 113\n",
      "}\n",
      "columns {\n",
      "  kind: DIRECT\n",
      "  dictionarySize: 0\n",
      "}\n",
      "columns {\n",
      "  kind: DIRECT_V2\n",
      "  dictionarySize: 0\n",
      "}\n",
      "columns {\n",
      "  kind: DIRECT_V2\n",
      "  dictionarySize: 0\n",
      "}\n",
      "writerTimezone: \"GMT\"\n",
      "\n"
     ]
    }
   ],
   "source": [
    "stripeFooter = orc_proto_pb2.StripeFooter()\n",
    "stripeFooter.ParseFromString(stripeFtBuf)\n",
    "print(stripeFooter)"
   ]
  },
  {
   "cell_type": "markdown",
   "metadata": {},
   "source": [
    "Что мы здесь видим:\n",
    "\n",
    "* сначала в страйпе идут три стрима с индексами\n",
    "* далее идет PRESENT стрим для \"псевдо колонки\" (структуры)\n",
    "* по PRESENT + DATA стримы для реальных колонок\n",
    "* информация о кодировании колонок (DIRECT для структуры и DIRECT_V2 для реальных колонок)\n",
    "\n",
    "Из непонятного пока - почему появились PRESENT стримы - вроде вверху видно, что \"нулей\" итак нет..."
   ]
  },
  {
   "cell_type": "markdown",
   "metadata": {},
   "source": [
    "**Шаг 2: Индексы**\n",
    "\n",
    "посмотрим на наиболее интересные - по псевдо колонке (он первый)"
   ]
  },
  {
   "cell_type": "code",
   "execution_count": 192,
   "metadata": {},
   "outputs": [],
   "source": [
    "st = footer.stripes[0].offset\n",
    "fn = st + stripeFooter.streams[0].length\n",
    "stripeFtBuf = buf[st:fn]"
   ]
  },
  {
   "cell_type": "code",
   "execution_count": 193,
   "metadata": {},
   "outputs": [
    {
     "name": "stdout",
     "output_type": "stream",
     "text": [
      "entry {\n",
      "  positions: 0\n",
      "  positions: 0\n",
      "  positions: 0\n",
      "  statistics {\n",
      "    numberOfValues: 10000\n",
      "    hasNull: false\n",
      "  }\n",
      "}\n",
      "\n"
     ]
    }
   ],
   "source": [
    "rowIndex = orc_proto_pb2.RowIndex()\n",
    "rowIndex.ParseFromString(stripeFtBuf)\n",
    "print(rowIndex)"
   ]
  },
  {
   "cell_type": "markdown",
   "metadata": {},
   "source": [
    "Пока непонятно... там и данных-то нет, попробуем посмотреть на реальную колонку"
   ]
  },
  {
   "cell_type": "code",
   "execution_count": 196,
   "metadata": {},
   "outputs": [],
   "source": [
    "st = footer.stripes[0].offset + stripeFooter.streams[0].length\n",
    "fn = st + stripeFooter.streams[1].length\n",
    "stripeFtBuf = buf[st:fn]"
   ]
  },
  {
   "cell_type": "code",
   "execution_count": 197,
   "metadata": {},
   "outputs": [
    {
     "name": "stdout",
     "output_type": "stream",
     "text": [
      "entry {\n",
      "  positions: 0\n",
      "  positions: 0\n",
      "  positions: 0\n",
      "  positions: 0\n",
      "  positions: 0\n",
      "  statistics {\n",
      "    numberOfValues: 10000\n",
      "    intStatistics {\n",
      "      minimum: 0\n",
      "      maximum: 9999\n",
      "      sum: 49995000\n",
      "    }\n",
      "    hasNull: false\n",
      "  }\n",
      "}\n",
      "\n"
     ]
    }
   ],
   "source": [
    "rowIndex = orc_proto_pb2.RowIndex()\n",
    "rowIndex.ParseFromString(stripeFtBuf)\n",
    "print(rowIndex)"
   ]
  },
  {
   "cell_type": "markdown",
   "metadata": {},
   "source": [
    "Понятнее не стало... Смотрим данные"
   ]
  },
  {
   "cell_type": "markdown",
   "metadata": {},
   "source": [
    "**Шаг 3: Data**"
   ]
  },
  {
   "cell_type": "markdown",
   "metadata": {},
   "source": [
    "Смотрим PRESENT stream для структуры (по идее должен быть из единичек - все не нули)"
   ]
  },
  {
   "cell_type": "code",
   "execution_count": 200,
   "metadata": {},
   "outputs": [],
   "source": [
    "st = footer.stripes[0].offset + footer.stripes[0].indexLength\n",
    "fn = st + stripeFooter.streams[3].length\n",
    "dataBuf = buf[st:fn]"
   ]
  },
  {
   "cell_type": "code",
   "execution_count": 209,
   "metadata": {},
   "outputs": [
    {
     "name": "stdout",
     "output_type": "stream",
     "text": [
      "HDR: 127 , DATA: 255\n",
      "HDR: 127 , DATA: 255\n",
      "HDR: 127 , DATA: 255\n",
      "HDR: 127 , DATA: 255\n",
      "HDR: 127 , DATA: 255\n",
      "HDR: 127 , DATA: 255\n",
      "HDR: 127 , DATA: 255\n",
      "HDR: 127 , DATA: 255\n",
      "HDR: 127 , DATA: 255\n",
      "HDR: 77 , DATA: 255\n",
      "Values count: 1220\n"
     ]
    }
   ],
   "source": [
    "i = 0\n",
    "valCnt = 0\n",
    "while True:\n",
    "    hdr = dataBuf[i]\n",
    "    valCnt += hdr\n",
    "    if hdr<=127:\n",
    "        data = dataBuf[i+1]\n",
    "        print(\"HDR:\",hdr,\", DATA:\", data)\n",
    "    i += 2\n",
    "    if i==20:\n",
    "        break\n",
    "print (\"Values count:\", valCnt)"
   ]
  },
  {
   "cell_type": "markdown",
   "metadata": {},
   "source": [
    "у нас 10тыс строк, они бьются на run-ы по 127: 10000/127 = 78 и еще останется 94\n",
    "\n",
    "Но, судя по данным (в стриме - 20 байт), что-то со значениями не совсем так.. Получилось 1220 значений\n",
    "\n",
    "Не будем заморачиваться другими PRESENT стримами - похоже, они такие же, надо поскорее на данные посмотреть"
   ]
  },
  {
   "cell_type": "markdown",
   "metadata": {},
   "source": [
    "**Колонка 1** данные"
   ]
  },
  {
   "cell_type": "code",
   "execution_count": 223,
   "metadata": {},
   "outputs": [],
   "source": [
    "st = footer.stripes[0].offset + footer.stripes[0].indexLength + stripeFooter.streams[3].length + stripeFooter.streams[4].length\n",
    "fn = st + stripeFooter.streams[5].length\n",
    "dataBuf = buf[st:fn]"
   ]
  },
  {
   "cell_type": "markdown",
   "metadata": {},
   "source": [
    "Первая колонка закодирована при помощи DIRECT_V2 для целых - это RLE v2\n",
    "\n",
    "первые два бита - тип кодировки, дальше - зависит от типа\n",
    "\n",
    "* 0=short: заголовок 1 байт\n",
    "* 1=direct: 2 байта\n",
    "* 2=patched base: 4 байта\n",
    "* 3=delta: 2 байта\n",
    "\n",
    "смотрим данные"
   ]
  },
  {
   "cell_type": "code",
   "execution_count": 233,
   "metadata": {},
   "outputs": [
    {
     "name": "stdout",
     "output_type": "stream",
     "text": [
      "HDR: 0b11000001 0b11111111\n",
      "0\n",
      "2\n",
      "HDR: 0b11000001 0b11111111\n",
      "0b10000000 0b1000\n",
      "2\n",
      "HDR: 0b11000001 0b11111111\n",
      "0b10000000 0b10000\n",
      "2\n"
     ]
    }
   ],
   "source": [
    "print(\"HDR:\",bin(dataBuf[0]),bin(dataBuf[1]))\n",
    "print(dataBuf[2])\n",
    "print(dataBuf[3])\n",
    "print(\"HDR:\",bin(dataBuf[4]),bin(dataBuf[5]))\n",
    "print(bin(dataBuf[6]),bin(dataBuf[7]))\n",
    "print(dataBuf[8])\n",
    "print(\"HDR:\",bin(dataBuf[9]),bin(dataBuf[10]))\n",
    "print(bin(dataBuf[11]),bin(dataBuf[12]))\n",
    "print(dataBuf[13])"
   ]
  },
  {
   "cell_type": "markdown",
   "metadata": {},
   "source": [
    "**Разбираем**\n",
    "\n",
    "у нас получается delta кодировка (логично - последовательность)\n",
    "\n",
    "первая пачка:\n",
    "* 511 значений ширины 0 (т.е. никаких больше дельт не будет!, только первая)\n",
    "* base = 0 (с базой получается как раз 512 значений)\n",
    "* delta = 1\n",
    "предполагаю, что должно обозначать 512 значений, начиная с нуля, увеличивающееся на 1 до 511 включительно...\n",
    "\n",
    "вторая пачка (аналогично):\n",
    "* 511 значений\n",
    "* base = 1024 (?) предполагаю, что это есть 512 из-за зигзага...\n",
    "* delta = 1\n",
    "третья пачка (аналогично):\n",
    "* 511 значений\n",
    "* base = 1024 \n",
    "* delta = 1\n",
    "...\n",
    "\n",
    "что получается - растет длина базы (за счет varint - кодируем целые). Остальное - постоянно. \n",
    "\n",
    "Посмотрим общую длину\n",
    "\n",
    "всего 103 байта:\n",
    "* 4 первая\n",
    "* 25 еще пять (по 5 байт каждая)\n",
    "* 84 еще 14 (по шесть байт каждая)\n",
    "сошлось..."
   ]
  },
  {
   "cell_type": "markdown",
   "metadata": {},
   "source": [
    "**Колонка 2** данные"
   ]
  },
  {
   "cell_type": "code",
   "execution_count": 241,
   "metadata": {},
   "outputs": [],
   "source": [
    "st = footer.stripes[0].offset + footer.stripes[0].indexLength + stripeFooter.streams[3].length + \\\n",
    "    stripeFooter.streams[4].length + stripeFooter.streams[5].length + stripeFooter.streams[6].length\n",
    "fn = st + stripeFooter.streams[7].length\n",
    "dataBuf = buf[st:fn]"
   ]
  },
  {
   "cell_type": "code",
   "execution_count": 242,
   "metadata": {},
   "outputs": [
    {
     "name": "stdout",
     "output_type": "stream",
     "text": [
      "HDR: 0b11000001 0b11111111\n",
      "0\n",
      "6\n",
      "HDR: 0b11000001 0b11111111\n",
      "0b10000000 0b11000\n",
      "6\n",
      "HDR: 0b11000001 0b11111111\n",
      "0b10000000 0b110000\n",
      "6\n"
     ]
    }
   ],
   "source": [
    "print(\"HDR:\",bin(dataBuf[0]),bin(dataBuf[1]))\n",
    "print(dataBuf[2])\n",
    "print(dataBuf[3])\n",
    "print(\"HDR:\",bin(dataBuf[4]),bin(dataBuf[5]))\n",
    "print(bin(dataBuf[6]),bin(dataBuf[7]))\n",
    "print(dataBuf[8])\n",
    "print(\"HDR:\",bin(dataBuf[9]),bin(dataBuf[10]))\n",
    "print(bin(dataBuf[11]),bin(dataBuf[12]))\n",
    "print(dataBuf[13])"
   ]
  },
  {
   "cell_type": "markdown",
   "metadata": {},
   "source": [
    "**Разбираем**\n",
    "\n",
    "у нас получается delta кодировка (логично - последовательность)\n",
    "\n",
    "первая пачка:\n",
    "* 511 значений ширины 0 (т.е. никаких больше дельт не будет!, только первая)\n",
    "* base = 0 (с базой получается как раз 512 значений)\n",
    "* delta = 3\n",
    "предполагаю, что должно обозначать 512 значений, начиная с нуля, увеличивающееся на 3 до ... включительно...\n",
    "\n",
    "в-общем все похоже на предыдущий вариант, только разница будет в длинах базы (она быстрее растет - макс 29997)"
   ]
  },
  {
   "cell_type": "markdown",
   "metadata": {},
   "source": [
    "---------------------------------------------------------------------дальше всякая отладка и другие разности..."
   ]
  },
  {
   "cell_type": "code",
   "execution_count": 239,
   "metadata": {},
   "outputs": [
    {
     "data": {
      "text/plain": [
       "84"
      ]
     },
     "execution_count": 239,
     "metadata": {},
     "output_type": "execute_result"
    }
   ],
   "source": [
    "14*6\n"
   ]
  },
  {
   "cell_type": "code",
   "execution_count": 69,
   "metadata": {},
   "outputs": [
    {
     "data": {
      "text/plain": [
       "'34'"
      ]
     },
     "execution_count": 69,
     "metadata": {},
     "output_type": "execute_result"
    }
   ],
   "source": [
    "#with open(\"ft.gz\",\"wb\") as ff:\n",
    "##    ff.write(ftBuf)\n",
    "#len(ftBuf)\n",
    "st = 2\n",
    "ln = 2\n",
    "\"123456\"[st:st+ln]"
   ]
  },
  {
   "cell_type": "code",
   "execution_count": null,
   "metadata": {},
   "outputs": [],
   "source": [
    "#buf[-psLen-pScript.footerLength-1+2]\n",
    "#f = open(\"footer.dat\",\"rb\")\n",
    "#tBuf = f.read()\n",
    "#.close()\n",
    "#len(ftBuf)"
   ]
  }
 ],
 "metadata": {
  "kernelspec": {
   "display_name": "Python 3",
   "language": "python",
   "name": "python3"
  },
  "language_info": {
   "codemirror_mode": {
    "name": "ipython",
    "version": 3
   },
   "file_extension": ".py",
   "mimetype": "text/x-python",
   "name": "python",
   "nbconvert_exporter": "python",
   "pygments_lexer": "ipython3",
   "version": "3.5.2"
  }
 },
 "nbformat": 4,
 "nbformat_minor": 2
}
