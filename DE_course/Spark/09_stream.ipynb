{
 "cells": [
  {
   "cell_type": "markdown",
   "metadata": {},
   "source": [
    "# Введение в Spark Structured Streaming "
   ]
  },
  {
   "cell_type": "markdown",
   "metadata": {},
   "source": [
    "### Streaming и batch обработки\n",
    "\n",
    "* `batch` - обработка всех данных\n",
    "* `streaming` - обработка постоянно поступающих данных\n",
    "* постоянно поступать могут как структурированные, так и не структурированные данные\n",
    "* желательно обрабатывать единообразно, минимальным количеством инструментов"
   ]
  },
  {
   "cell_type": "markdown",
   "metadata": {},
   "source": [
    "### Как можно обрабатывать потоковые данные\n",
    "\n",
    "(например, с помощью NiFi)\n",
    "\n",
    "Настраиваем граф обработки, который\n",
    "\n",
    "* периодически читает данные (файлы, таблицы)\n",
    "* обрабатывает каждый элемент\n",
    "* собирает в \"batch\" (где-то временно храня)\n",
    "* записывает batch в хранилище (например, Hive)\n",
    "\n",
    "Все это мы делаем\n",
    "\n",
    "* другим инструментом\n",
    "* на каком-то оборудовании\n",
    "* каким-то образом обеспечиваем мониторинг\n",
    "* каким-то образом обеспечиваем lineage"
   ]
  },
  {
   "cell_type": "markdown",
   "metadata": {},
   "source": [
    "### Что предлагает Spark Structured Streaming\n",
    "\n",
    "(начнем с конца)\n",
    "\n",
    "* такую же обстракцию (`dataframe`) для преобразования данных\n",
    "* такой же механизм получения потоковых данных (например, чтение из файлов)\n",
    "* новый механизм действия (`action`): трансформация запускается при обновлении данных\n",
    "* возможность работы с актуальными данными (batch + streaming) "
   ]
  },
  {
   "cell_type": "markdown",
   "metadata": {},
   "source": [
    "### Как это работает\n",
    "\n",
    "(на примере файлов)\n",
    "\n",
    "* создаем датафрейм из файла (также, как и в обычном случае, только `readStream`)\n",
    "* настраиваем необходимые преобразования\n",
    "* настраиваем параметры стриминга\n",
    "    * куда записывать (файлы или kafka)\n",
    "    * способ запуска алгоритмов (количество файлов или промежуток времени)\n",
    "* запускаем стриминг (`start`)\n"
   ]
  },
  {
   "cell_type": "markdown",
   "metadata": {},
   "source": [
    "### Простой пример\n",
    "\n",
    "Шаг 1. Создаем \"стриминговый\" датафрейм (`readStream`), задаем - как часто выполнять (через каждые 1000 файлов)\n",
    "\n",
    "    streamingDataFrame = spark.readStream\\\n",
    "        .schema(staticSchema)\\\n",
    "        .option(\"maxFilesPerTrigger\", 1000)\\\n",
    "        .format(\"csv\")\\\n",
    "        .option(\"header\", \"true\")\\\n",
    "        .load(\"/data/retail-data/by-day/*.csv\")\n",
    "\n",
    "Шаг 2. Обрабатываем его так, как нам нужно (например, агрегируем)\n",
    "\n",
    "    purchaseByCustomerPerHour = streamingDataFrame\\\n",
    "        .selectExpr( \"CustomerId\", \"(UnitPrice * Quantity) as total_cost\", \"InvoiceDate\")\\\n",
    "        .groupBy(col(\"CustomerId\"), window(col(\"InvoiceDate\"), \"1 day\"))\\\n",
    "        .sum(\"total_cost\")\n",
    "\n",
    "Шаг 3. Запускаем стриминг (в данном примере будет формироваться таблица в памяти, но это могли бы быть файлы или топики Kafka)\n",
    "\n",
    "    purchaseByCustomerPerHour.writeStream\\\n",
    "        .format(\"memory\")\\\n",
    "        .queryName(\"customer_purchases\")\\\n",
    "        .outputMode(\"complete\")\\\n",
    "        .start()"
   ]
  }
 ],
 "metadata": {
  "kernelspec": {
   "display_name": "Python 3",
   "language": "python",
   "name": "python3"
  },
  "language_info": {
   "codemirror_mode": {
    "name": "ipython",
    "version": 3
   },
   "file_extension": ".py",
   "mimetype": "text/x-python",
   "name": "python",
   "nbconvert_exporter": "python",
   "pygments_lexer": "ipython3",
   "version": "3.5.2"
  }
 },
 "nbformat": 4,
 "nbformat_minor": 2
}
