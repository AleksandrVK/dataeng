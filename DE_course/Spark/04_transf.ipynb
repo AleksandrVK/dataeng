{
 "cells": [
  {
   "cell_type": "markdown",
   "metadata": {},
   "source": [
    "# Базовые трансформации в Spark"
   ]
  },
  {
   "cell_type": "markdown",
   "metadata": {},
   "source": [
    "### Из чего состоят dataframe\n",
    "\n",
    "* датафрейм состоит из строк (объект Row)\n",
    "* строка состоит из колонок (объект Column)\n",
    "* Row не имеет методов, Column имеет множество методов\n",
    "* значение в колонке всегда имеет тип и определяется схемой (Schema)\n",
    "* spark работает с собственным набором типов данных (см. документацию)"
   ]
  },
  {
   "cell_type": "markdown",
   "metadata": {},
   "source": [
    "### Выражения и колонки\n",
    "\n",
    "* выражение (`expression`) - это функция, которая преобразует множество колонок в значение для каждой строки dataframe\n",
    "* в простейшем случае - само значение колонки датафрейма (`col(\"a\")`)\n",
    "* функция expr() - создает выражение из строки (`expr(\"a - 5\")`)"
   ]
  },
  {
   "cell_type": "markdown",
   "metadata": {},
   "source": [
    "### Операции с dataframe\n",
    "\n",
    "![](df_transforms.PNG)\n",
    "\n",
    "* добавляем или удаляем колонки\n",
    "* добавляем или удаляем строки\n",
    "* трансформируем колонку в строку или наоборот\n",
    "* меняем порядок строк\n",
    "* dataframe изменить нельзя, можно лишь создать новый"
   ]
  },
  {
   "cell_type": "markdown",
   "metadata": {},
   "source": [
    "### Информация о dataframe\n",
    "\n",
    "* schema - атрибут dataframe, содержащий StructType со схемой\n",
    "* printSchema() - печать схемы в виде дерева\n",
    "* columns - атрибут dataframe, содержащий список колонок\n",
    "* describe() - вычисляет count, mean, standard deviation, min и max для всех цифровых колонок dataframe"
   ]
  },
  {
   "cell_type": "markdown",
   "metadata": {},
   "source": [
    "### Удаление колонок\n",
    "\n",
    "* select() - выбор (набора) колонок dataframe\n",
    "* selectExpr() - аналогично, но с использованием выражений\n",
    "* drop() - удаление колонок dataframe"
   ]
  },
  {
   "cell_type": "markdown",
   "metadata": {},
   "source": [
    "### Добавление колонок\n",
    "\n",
    "* withColumn() - добавление колонки\n",
    "* withColumnRenamed() - переименование колонки\n",
    "* функция lit()  - литерал (используется для добавления колонок с константными значениями)"
   ]
  },
  {
   "cell_type": "markdown",
   "metadata": {},
   "source": [
    "### Удаление строк\n",
    "\n",
    "* filter() - отбор строк dataframe\n",
    "* where() - синоним "
   ]
  },
  {
   "cell_type": "markdown",
   "metadata": {},
   "source": [
    "### Остальные виды операций\n",
    "\n",
    "* добавление строк - это join() и union()\n",
    "* сортировку мы рассмотрим в отдельном шаге вместе с агрегатными функциями "
   ]
  },
  {
   "cell_type": "markdown",
   "metadata": {},
   "source": [
    "### Практика\n",
    "\n",
    "Давайте попробуем основные трансформации на наших данных (данные стран мира).\n",
    "\n",
    "Тренироваться будем в локальном режиме (на рабочем месте) - см. создание spark session."
   ]
  },
  {
   "cell_type": "code",
   "execution_count": 3,
   "metadata": {},
   "outputs": [],
   "source": [
    "import os\n",
    "from pyspark.sql import SparkSession\n",
    "from pyspark.sql import functions as f\n",
    "os.environ[\"SPARK_HOME\"] = \"/home/mk/mk_win/projects/SparkEdu/lib/python3.5/site-packages/pyspark\"\n",
    "os.environ[\"PYSPARK_PYTHON\"] = \"/usr/bin/python3\"\n",
    "os.environ[\"PYSPARK_DRIVER_PYTHON\"] = \"python3\"\n",
    "os.environ[\"PYSPARK_SUBMIT_ARGS\"] = \"pyspark-shell\""
   ]
  },
  {
   "cell_type": "code",
   "execution_count": 4,
   "metadata": {},
   "outputs": [],
   "source": [
    "spark = SparkSession.builder.master(\"local\").appName(\"transf_test\").getOrCreate()"
   ]
  },
  {
   "cell_type": "markdown",
   "metadata": {},
   "source": [
    "Загрузим наши страны"
   ]
  },
  {
   "cell_type": "code",
   "execution_count": 5,
   "metadata": {},
   "outputs": [],
   "source": [
    "cdf = spark.read.format(\"csv\") \\\n",
    "    .option(\"mode\", \"FAILFAST\") \\\n",
    "    .option(\"inferSchema\", \"true\") \\\n",
    "    .option(\"header\",\"true\") \\\n",
    "    .option(\"path\", \"data/countries of the world.csv\") \\\n",
    "    .load()"
   ]
  },
  {
   "cell_type": "markdown",
   "metadata": {},
   "source": [
    "**Схема**\n",
    "\n",
    "ее лучше всего смотреть в виде дерева"
   ]
  },
  {
   "cell_type": "code",
   "execution_count": 6,
   "metadata": {},
   "outputs": [
    {
     "name": "stdout",
     "output_type": "stream",
     "text": [
      "root\n",
      " |-- Country: string (nullable = true)\n",
      " |-- Region: string (nullable = true)\n",
      " |-- Population: integer (nullable = true)\n",
      " |-- Area (sq. mi.): integer (nullable = true)\n",
      " |-- Pop. Density (per sq. mi.): string (nullable = true)\n",
      " |-- Coastline (coast/area ratio): string (nullable = true)\n",
      " |-- Net migration: string (nullable = true)\n",
      " |-- Infant mortality (per 1000 births): string (nullable = true)\n",
      " |-- GDP ($ per capita): integer (nullable = true)\n",
      " |-- Literacy (%): string (nullable = true)\n",
      " |-- Phones (per 1000): string (nullable = true)\n",
      " |-- Arable (%): string (nullable = true)\n",
      " |-- Crops (%): string (nullable = true)\n",
      " |-- Other (%): string (nullable = true)\n",
      " |-- Climate: string (nullable = true)\n",
      " |-- Birthrate: string (nullable = true)\n",
      " |-- Deathrate: string (nullable = true)\n",
      " |-- Agriculture: string (nullable = true)\n",
      " |-- Industry: string (nullable = true)\n",
      " |-- Service: string (nullable = true)\n",
      "\n"
     ]
    }
   ],
   "source": [
    "cdf.printSchema()"
   ]
  },
  {
   "cell_type": "markdown",
   "metadata": {},
   "source": [
    "**Колонки**\n",
    "\n",
    "Список колонок - атрибут, отсюда удобно копировать (колонки названы длинно)"
   ]
  },
  {
   "cell_type": "code",
   "execution_count": 7,
   "metadata": {},
   "outputs": [
    {
     "data": {
      "text/plain": [
       "['Country',\n",
       " 'Region',\n",
       " 'Population',\n",
       " 'Area (sq. mi.)',\n",
       " 'Pop. Density (per sq. mi.)',\n",
       " 'Coastline (coast/area ratio)',\n",
       " 'Net migration',\n",
       " 'Infant mortality (per 1000 births)',\n",
       " 'GDP ($ per capita)',\n",
       " 'Literacy (%)',\n",
       " 'Phones (per 1000)',\n",
       " 'Arable (%)',\n",
       " 'Crops (%)',\n",
       " 'Other (%)',\n",
       " 'Climate',\n",
       " 'Birthrate',\n",
       " 'Deathrate',\n",
       " 'Agriculture',\n",
       " 'Industry',\n",
       " 'Service']"
      ]
     },
     "execution_count": 7,
     "metadata": {},
     "output_type": "execute_result"
    }
   ],
   "source": [
    "cdf.columns"
   ]
  },
  {
   "cell_type": "markdown",
   "metadata": {},
   "source": [
    "**describe()**\n",
    "\n",
    "немного неожиданный результат - посчиталось для всех колонок... Не только числовых."
   ]
  },
  {
   "cell_type": "code",
   "execution_count": 8,
   "metadata": {},
   "outputs": [
    {
     "name": "stdout",
     "output_type": "stream",
     "text": [
      "+-------+------------+--------------------+--------------------+------------------+--------------------------+----------------------------+--------------------+----------------------------------+------------------+------------+-----------------+------------------+------------------+------------------+------------------+------------------+---------+-----------+--------+-------+\n",
      "|summary|     Country|              Region|          Population|    Area (sq. mi.)|Pop. Density (per sq. mi.)|Coastline (coast/area ratio)|       Net migration|Infant mortality (per 1000 births)|GDP ($ per capita)|Literacy (%)|Phones (per 1000)|        Arable (%)|         Crops (%)|         Other (%)|           Climate|         Birthrate|Deathrate|Agriculture|Industry|Service|\n",
      "+-------+------------+--------------------+--------------------+------------------+--------------------------+----------------------------+--------------------+----------------------------------+------------------+------------+-----------------+------------------+------------------+------------------+------------------+------------------+---------+-----------+--------+-------+\n",
      "|  count|         227|                 227|                 227|               227|                       227|                         227|                 224|                               224|               226|         209|              223|               225|               225|               225|               205|               224|      223|        212|     211|    212|\n",
      "|   mean|        null|                null|2.8740284365638766E7| 598226.9559471365|                      null|                        null|0.031746031746031744|                              56.5| 9689.823008849558|        null|             null| 8.842105263157896|1.9090909090909092| 86.57894736842105|2.1597938144329896|              21.0|     22.0|        0.0|    null|   null|\n",
      "| stddev|        null|                null|1.1789132654347657E8|1790282.2437336047|                      null|                        null|  0.2519763153394848|                 36.78314831549904|10049.138513197226|        null|             null|10.128415242358372| 5.954849055410831|14.633734958321792|0.7054429092420468|11.853269591129697|      NaN|        NaN|    null|   null|\n",
      "|    min|Afghanistan |ASIA (EX. NEAR EA...|                7026|                 2|                       0,0|                        0,00|               -0,02|                             10,03|               500|       100,0|              0,2|                 0|                 0|               100|                 1|                10|    10,01|          0|    0,02|  0,062|\n",
      "|    max|   Zimbabwe |WESTERN EUROPE   ...|          1313973713|          17075200|                      99,9|                       92,31|                9,61|                              98,8|             55100|        99,9|             97,7|              9,75|              9,87|             99,98|                 4|              9,95|     9,89|      0,769|   0,906|  0,954|\n",
      "+-------+------------+--------------------+--------------------+------------------+--------------------------+----------------------------+--------------------+----------------------------------+------------------+------------+-----------------+------------------+------------------+------------------+------------------+------------------+---------+-----------+--------+-------+\n",
      "\n"
     ]
    }
   ],
   "source": [
    "cdf.describe().show()"
   ]
  },
  {
   "cell_type": "markdown",
   "metadata": {},
   "source": [
    "**Отбор колонок**\n",
    "\n",
    "С помощью `select`-а оставим только нужные нам (обратите внимание на результат - схема результирующего датафрейма)"
   ]
  },
  {
   "cell_type": "code",
   "execution_count": 9,
   "metadata": {},
   "outputs": [
    {
     "data": {
      "text/plain": [
       "DataFrame[Country: string, Region: string, Population: int]"
      ]
     },
     "execution_count": 9,
     "metadata": {},
     "output_type": "execute_result"
    }
   ],
   "source": [
    "cdf.select('Country','Region','Population')"
   ]
  },
  {
   "cell_type": "markdown",
   "metadata": {},
   "source": [
    "**selectExpr()**\n",
    "\n",
    "могучая функция: мы знаем, что в модуле `pyspark.sql.functions` есть функция конкатенации, смело вызываем ее для создания такого названия страны. Заодно воспользуемся возможностью и переименуем колонку (`as`).\n",
    "\n",
    "Если мы хотим, чтобы `show` не обрезал вывод - добавляем параметр `False`."
   ]
  },
  {
   "cell_type": "code",
   "execution_count": 10,
   "metadata": {},
   "outputs": [
    {
     "name": "stdout",
     "output_type": "stream",
     "text": [
      "+----------------------------------------------+\n",
      "|CountryIn                                     |\n",
      "+----------------------------------------------+\n",
      "|Afghanistan in ASIA (EX. NEAR EAST)           |\n",
      "|Albania in EASTERN EUROPE                     |\n",
      "|Algeria in NORTHERN AFRICA                    |\n",
      "+----------------------------------------------+\n",
      "only showing top 3 rows\n",
      "\n"
     ]
    }
   ],
   "source": [
    "cdf.selectExpr('concat(Country,\"in \",Region) as CountryIn').show(3, False)"
   ]
  },
  {
   "cell_type": "markdown",
   "metadata": {},
   "source": [
    "**Удаление колонок**\n",
    "\n",
    "Удалим так понравившиеся нам колонки и посмотрим - что осталось..."
   ]
  },
  {
   "cell_type": "code",
   "execution_count": 11,
   "metadata": {},
   "outputs": [
    {
     "data": {
      "text/plain": [
       "['Area (sq. mi.)',\n",
       " 'Pop. Density (per sq. mi.)',\n",
       " 'Coastline (coast/area ratio)',\n",
       " 'Net migration',\n",
       " 'Infant mortality (per 1000 births)',\n",
       " 'GDP ($ per capita)',\n",
       " 'Literacy (%)',\n",
       " 'Phones (per 1000)',\n",
       " 'Arable (%)',\n",
       " 'Crops (%)',\n",
       " 'Other (%)',\n",
       " 'Climate',\n",
       " 'Birthrate',\n",
       " 'Deathrate',\n",
       " 'Agriculture',\n",
       " 'Industry',\n",
       " 'Service']"
      ]
     },
     "execution_count": 11,
     "metadata": {},
     "output_type": "execute_result"
    }
   ],
   "source": [
    "cdf.drop('Country','Region','Population').columns"
   ]
  },
  {
   "cell_type": "markdown",
   "metadata": {},
   "source": [
    "**Добавим литеральную колонку**\n",
    "\n",
    "В новом датафрейме будет колонка `ONE` со значением 1."
   ]
  },
  {
   "cell_type": "code",
   "execution_count": 12,
   "metadata": {},
   "outputs": [
    {
     "data": {
      "text/plain": [
       "['Country', 'Region', 'Population', 'ONE']"
      ]
     },
     "execution_count": 12,
     "metadata": {},
     "output_type": "execute_result"
    }
   ],
   "source": [
    "cdf.select('Country','Region','Population').withColumn(\"ONE\",f.lit(1)).columns"
   ]
  },
  {
   "cell_type": "markdown",
   "metadata": {},
   "source": [
    "**Переименуем колонку**\n",
    "\n",
    "Уж очень длинно звучит название колонки - давайте укоротим..."
   ]
  },
  {
   "cell_type": "code",
   "execution_count": 13,
   "metadata": {},
   "outputs": [
    {
     "data": {
      "text/plain": [
       "['Country',\n",
       " 'Region',\n",
       " 'Population',\n",
       " 'AREA',\n",
       " 'Pop. Density (per sq. mi.)',\n",
       " 'Coastline (coast/area ratio)',\n",
       " 'Net migration',\n",
       " 'Infant mortality (per 1000 births)',\n",
       " 'GDP ($ per capita)',\n",
       " 'Literacy (%)',\n",
       " 'Phones (per 1000)',\n",
       " 'Arable (%)',\n",
       " 'Crops (%)',\n",
       " 'Other (%)',\n",
       " 'Climate',\n",
       " 'Birthrate',\n",
       " 'Deathrate',\n",
       " 'Agriculture',\n",
       " 'Industry',\n",
       " 'Service']"
      ]
     },
     "execution_count": 13,
     "metadata": {},
     "output_type": "execute_result"
    }
   ],
   "source": [
    "cdf.withColumnRenamed('Area (sq. mi.)','AREA').columns"
   ]
  },
  {
   "cell_type": "markdown",
   "metadata": {},
   "source": [
    "**Фильтрация**\n",
    "\n",
    "Посмотрим, к какому региону приписали в этой табличке нас (пришлось немного поупражняться, чтобы "
   ]
  },
  {
   "cell_type": "code",
   "execution_count": 14,
   "metadata": {},
   "outputs": [
    {
     "name": "stdout",
     "output_type": "stream",
     "text": [
      "+-------+--------------------+\n",
      "|Country|              Region|\n",
      "+-------+--------------------+\n",
      "|Russia |C.W. OF IND. STATES |\n",
      "+-------+--------------------+\n",
      "\n"
     ]
    }
   ],
   "source": [
    "cdf.select('Country','Region').filter(f.col('Country').startswith('Russia')).show()"
   ]
  },
  {
   "cell_type": "markdown",
   "metadata": {},
   "source": [
    "### Еще немного практики"
   ]
  },
  {
   "cell_type": "markdown",
   "metadata": {},
   "source": [
    "**range()**\n",
    "\n",
    "Простейший способ создаиние датафрейма - создает датафрейм с одной числовой колонкой `id` и заполяет его строками указанного в параметре диапазона. Дата инженерам не нужно создавать датафреймы - они их обычно загружают. Но если нужно - вот способ."
   ]
  },
  {
   "cell_type": "code",
   "execution_count": 15,
   "metadata": {},
   "outputs": [
    {
     "name": "stdout",
     "output_type": "stream",
     "text": [
      "+---+\n",
      "| id|\n",
      "+---+\n",
      "|  0|\n",
      "|  1|\n",
      "|  2|\n",
      "|  3|\n",
      "|  4|\n",
      "|  5|\n",
      "|  6|\n",
      "|  7|\n",
      "|  8|\n",
      "|  9|\n",
      "+---+\n",
      "\n"
     ]
    }
   ],
   "source": [
    "df = spark.range(10).show()"
   ]
  },
  {
   "cell_type": "markdown",
   "metadata": {},
   "source": [
    "**distinct()**\n",
    "\n",
    "С помощью `distinct()` посмотрим - какие вообще регионы имеются в нашем датафрейме. Выглядит как-то подозрительно - что там, пробелы в конце что-ли?"
   ]
  },
  {
   "cell_type": "code",
   "execution_count": 16,
   "metadata": {},
   "outputs": [
    {
     "name": "stdout",
     "output_type": "stream",
     "text": [
      "+-----------------------------------+\n",
      "|Region                             |\n",
      "+-----------------------------------+\n",
      "|BALTICS                            |\n",
      "|C.W. OF IND. STATES                |\n",
      "|ASIA (EX. NEAR EAST)               |\n",
      "|WESTERN EUROPE                     |\n",
      "|NORTHERN AMERICA                   |\n",
      "|NEAR EAST                          |\n",
      "|EASTERN EUROPE                     |\n",
      "|OCEANIA                            |\n",
      "|SUB-SAHARAN AFRICA                 |\n",
      "|NORTHERN AFRICA                    |\n",
      "|LATIN AMER. & CARIB                |\n",
      "+-----------------------------------+\n",
      "\n"
     ]
    }
   ],
   "source": [
    "cdf.select('Region').distinct().show(truncate=False)"
   ]
  },
  {
   "cell_type": "markdown",
   "metadata": {},
   "source": [
    "**length()**\n",
    "\n",
    "Добавим к имени региона колонку, которая покажет длину строки... Действительно, пробелы"
   ]
  },
  {
   "cell_type": "code",
   "execution_count": 17,
   "metadata": {},
   "outputs": [
    {
     "name": "stdout",
     "output_type": "stream",
     "text": [
      "+-----------------------------------+---+\n",
      "|Region                             |len|\n",
      "+-----------------------------------+---+\n",
      "|BALTICS                            |35 |\n",
      "|C.W. OF IND. STATES                |20 |\n",
      "|ASIA (EX. NEAR EAST)               |29 |\n",
      "|WESTERN EUROPE                     |35 |\n",
      "|NORTHERN AMERICA                   |35 |\n",
      "|NEAR EAST                          |35 |\n",
      "|EASTERN EUROPE                     |35 |\n",
      "|OCEANIA                            |35 |\n",
      "|SUB-SAHARAN AFRICA                 |35 |\n",
      "|NORTHERN AFRICA                    |35 |\n",
      "|LATIN AMER. & CARIB                |23 |\n",
      "+-----------------------------------+---+\n",
      "\n"
     ]
    }
   ],
   "source": [
    "cdf.select('Region').distinct().withColumn('len',f.length('Region')).show(100,truncate=False)"
   ]
  },
  {
   "cell_type": "markdown",
   "metadata": {},
   "source": [
    "**monotonically_increasing_id(), alias(), replace()**\n",
    "\n",
    "Ну и напоследок \"завернем\" такое преобразование:\n",
    "\n",
    "* добавим `monotonically_increasing_id()` - обратите внимание: это на простом примере так красиво получилось, в жизни туда еще добавится номер партиции, будет не очень красиво, но монотонно возрастающе...\n",
    "* переименуем колонку с помощью `alias()`\n",
    "* через `expr()` \"укоротим\" название региона и переименуем его сразу в код\n",
    "* словарной заменой заменим часть регионов на их код"
   ]
  },
  {
   "cell_type": "code",
   "execution_count": 18,
   "metadata": {},
   "outputs": [
    {
     "name": "stdout",
     "output_type": "stream",
     "text": [
      "+---+------------------+-------------------+\n",
      "| ID|           Country|            RegCode|\n",
      "+---+------------------+-------------------+\n",
      "|  0|      Afghanistan |                ASA|\n",
      "|  1|          Albania |     EASTERN EUROPE|\n",
      "|  2|          Algeria |    NORTHERN AFRICA|\n",
      "|  3|   American Samoa |                OCN|\n",
      "|  4|          Andorra |     WESTERN EUROPE|\n",
      "|  5|           Angola | SUB-SAHARAN AFRICA|\n",
      "|  6|         Anguilla |LATIN AMER. & CARIB|\n",
      "|  7|Antigua & Barbuda |LATIN AMER. & CARIB|\n",
      "|  8|        Argentina |LATIN AMER. & CARIB|\n",
      "|  9|          Armenia |C.W. OF IND. STATES|\n",
      "| 10|            Aruba |LATIN AMER. & CARIB|\n",
      "| 11|        Australia |                OCN|\n",
      "| 12|          Austria |     WESTERN EUROPE|\n",
      "| 13|       Azerbaijan |C.W. OF IND. STATES|\n",
      "| 14|     Bahamas, The |LATIN AMER. & CARIB|\n",
      "| 15|          Bahrain |          NEAR EAST|\n",
      "| 16|       Bangladesh |                ASA|\n",
      "| 17|         Barbados |LATIN AMER. & CARIB|\n",
      "| 18|          Belarus |C.W. OF IND. STATES|\n",
      "| 19|          Belgium |     WESTERN EUROPE|\n",
      "+---+------------------+-------------------+\n",
      "only showing top 20 rows\n",
      "\n"
     ]
    }
   ],
   "source": [
    "regRepl = { 'OCEANIA': 'OCN', 'ASIA (EX. NEAR EAST)': 'ASA' }\n",
    "cdf.select(f.monotonically_increasing_id().alias('ID'),'Country',f.expr('rtrim(Region) as RegCode')) \\\n",
    "    .replace(regRepl,None,'RegCode') \\\n",
    "    .show()"
   ]
  },
  {
   "cell_type": "markdown",
   "metadata": {},
   "source": [
    "**Итого**\n",
    "\n",
    "Возможности базовых трансформации поистинне неисчерпаемы. \n",
    "\n",
    "Изучайте документацию, пробуйте - в этом ноутбуке, создавайте свои.\n",
    "\n",
    "В этом модуле вам нужно будет преобразовать \"наши\" данные - в материалах выше содержатся необходимые методы. Джойны и объединения мы рассмотрим в следующем шаге."
   ]
  },
  {
   "cell_type": "code",
   "execution_count": 19,
   "metadata": {},
   "outputs": [],
   "source": [
    "spark.stop()"
   ]
  }
 ],
 "metadata": {
  "jupytext": {
   "encoding": "# -*- coding: utf-8 -*-",
   "formats": "ipynb,py:light"
  },
  "kernelspec": {
   "display_name": "Python 3",
   "language": "python",
   "name": "python3"
  },
  "language_info": {
   "codemirror_mode": {
    "name": "ipython",
    "version": 3
   },
   "file_extension": ".py",
   "mimetype": "text/x-python",
   "name": "python",
   "nbconvert_exporter": "python",
   "pygments_lexer": "ipython3",
   "version": "3.5.2"
  }
 },
 "nbformat": 4,
 "nbformat_minor": 2
}
