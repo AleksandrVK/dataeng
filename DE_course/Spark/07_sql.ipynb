{
 "cells": [
  {
   "cell_type": "markdown",
   "metadata": {},
   "source": [
    "# Spark SQL"
   ]
  },
  {
   "cell_type": "markdown",
   "metadata": {},
   "source": [
    "Структура шага\n",
    "\n",
    "* аудио 07_sql\n",
    "    * по нему слайды \"Что такое Spark SQL\", \"Как использовать\", \"Какие операции поддерживаются\", \"Использование SQL и Structured API\", \"Logical plan\", \"Кэширование таблиц\"\n",
    "* остальное - материалы"
   ]
  },
  {
   "cell_type": "markdown",
   "metadata": {},
   "source": [
    "### Что такое Spark SQL\n",
    "\n",
    "* свой собственный SQL движок\n",
    "* может использоваться \"вперемешку\" с датафреймами\n",
    "* технически может работать (и работает) с Hive Metastore\n",
    "* поддерживает подмножество ANSI SQL:2003\n",
    "* есть интерактивная консоль (`spark-sql`)"
   ]
  },
  {
   "cell_type": "markdown",
   "metadata": {},
   "source": [
    "### Как использовать\n",
    "\n",
    "* основной метод - `sql()` (метод объекта SparkSession)\n",
    "* возвращает dataframe\n",
    "* lazy evaluation\n",
    "* может использоваться для доступа к источникам\n",
    "    * не уверен в параллелизме\n",
    "* хорошо работает с Hive (эффективно, параллельно)"
   ]
  },
  {
   "cell_type": "markdown",
   "metadata": {},
   "source": [
    "### Какие операции поддерживаются\n",
    "\n",
    "* создание таблиц и view\n",
    "    * включая внешние (поддерживается синтаксис Hive QL)\n",
    "* создание баз\n",
    "* `insert` \n",
    "* основное - `select`"
   ]
  },
  {
   "cell_type": "markdown",
   "metadata": {},
   "source": [
    "### Использование SQL и Structured API\n",
    "\n",
    "* dataframe можно \"зарегистрировать\" как view (`.createOrReplaceTempView(\"some_sql_view\")`)\n",
    "* все трансформации - lazy\n",
    "* в итоге все будет скомпилировано в операции над RDD\n"
   ]
  },
  {
   "cell_type": "markdown",
   "metadata": {},
   "source": [
    "### Logical plan\n",
    "\n",
    "* трансформации формируют логический план (алгоритм)\n",
    "* его можно посмотреть (`.explain()`)\n",
    "* планы запросов SQL и dataframe эквивалентны"
   ]
  },
  {
   "cell_type": "markdown",
   "metadata": {},
   "source": [
    "### Кэширование таблиц\n",
    "\n",
    "* `CACHE TABLE` - кэширует таблицу\n",
    "* `UNCACHE TABLE` - чистит кэш"
   ]
  },
  {
   "cell_type": "markdown",
   "metadata": {},
   "source": [
    "### Попрактикуемся\n",
    "\n",
    "Для простоты будем все делать локально - зарегистрируем таблицу со странами, как `view` и будем с ней работать с помощью SQL."
   ]
  },
  {
   "cell_type": "code",
   "execution_count": 1,
   "metadata": {},
   "outputs": [],
   "source": [
    "import os\n",
    "from pyspark.sql import SparkSession\n",
    "from pyspark.sql import functions as f\n",
    "os.environ[\"SPARK_HOME\"] = \"/home/mk/mk_win/projects/SparkEdu/lib/python3.5/site-packages/pyspark\"\n",
    "os.environ[\"PYSPARK_PYTHON\"] = \"/usr/bin/python3\"\n",
    "os.environ[\"PYSPARK_DRIVER_PYTHON\"] = \"python3\"\n",
    "os.environ[\"PYSPARK_SUBMIT_ARGS\"] = \"pyspark-shell\""
   ]
  },
  {
   "cell_type": "code",
   "execution_count": 2,
   "metadata": {},
   "outputs": [],
   "source": [
    "spark = SparkSession.builder.master(\"local\").appName(\"spark_sql\").getOrCreate()"
   ]
  },
  {
   "cell_type": "code",
   "execution_count": 6,
   "metadata": {},
   "outputs": [],
   "source": [
    "cdf = spark.read.format(\"csv\") \\\n",
    "    .option(\"mode\", \"FAILFAST\") \\\n",
    "    .option(\"inferSchema\", \"true\") \\\n",
    "    .option(\"header\",\"true\") \\\n",
    "    .option(\"path\", \"data/countries of the world.csv\") \\\n",
    "    .load()\n",
    "cdf.createOrReplaceTempView(\"countries\")"
   ]
  },
  {
   "cell_type": "markdown",
   "metadata": {},
   "source": [
    "**Простой select**"
   ]
  },
  {
   "cell_type": "code",
   "execution_count": 4,
   "metadata": {},
   "outputs": [
    {
     "name": "stdout",
     "output_type": "stream",
     "text": [
      "+--------+\n",
      "|count(1)|\n",
      "+--------+\n",
      "|     227|\n",
      "+--------+\n",
      "\n"
     ]
    }
   ],
   "source": [
    "spark.sql(\"select count(*) from countries\").show()"
   ]
  },
  {
   "cell_type": "markdown",
   "metadata": {},
   "source": [
    "**Информация о таблице**"
   ]
  },
  {
   "cell_type": "code",
   "execution_count": 5,
   "metadata": {},
   "outputs": [
    {
     "name": "stdout",
     "output_type": "stream",
     "text": [
      "+--------------------+---------+-------+\n",
      "|            col_name|data_type|comment|\n",
      "+--------------------+---------+-------+\n",
      "|             Country|   string|   null|\n",
      "|              Region|   string|   null|\n",
      "|          Population|      int|   null|\n",
      "|      Area (sq. mi.)|      int|   null|\n",
      "|Pop. Density (per...|   string|   null|\n",
      "|Coastline (coast/...|   string|   null|\n",
      "|       Net migration|   string|   null|\n",
      "|Infant mortality ...|   string|   null|\n",
      "|  GDP ($ per capita)|      int|   null|\n",
      "|        Literacy (%)|   string|   null|\n",
      "|   Phones (per 1000)|   string|   null|\n",
      "|          Arable (%)|   string|   null|\n",
      "|           Crops (%)|   string|   null|\n",
      "|           Other (%)|   string|   null|\n",
      "|             Climate|   string|   null|\n",
      "|           Birthrate|   string|   null|\n",
      "|           Deathrate|   string|   null|\n",
      "|         Agriculture|   string|   null|\n",
      "|            Industry|   string|   null|\n",
      "|             Service|   string|   null|\n",
      "+--------------------+---------+-------+\n",
      "\n"
     ]
    }
   ],
   "source": [
    "spark.sql(\"describe table countries\").show()"
   ]
  },
  {
   "cell_type": "markdown",
   "metadata": {},
   "source": [
    "**Что с пробелами**\n",
    "\n",
    "Посмотрим - как спробелами в названиях стран и регионов"
   ]
  },
  {
   "cell_type": "code",
   "execution_count": 11,
   "metadata": {},
   "outputs": [
    {
     "name": "stdout",
     "output_type": "stream",
     "text": [
      "+-----------------------------------+--------------+\n",
      "|region                             |length(region)|\n",
      "+-----------------------------------+--------------+\n",
      "|EASTERN EUROPE                     |35            |\n",
      "|OCEANIA                            |35            |\n",
      "|SUB-SAHARAN AFRICA                 |35            |\n",
      "|NORTHERN AMERICA                   |35            |\n",
      "|NEAR EAST                          |35            |\n",
      "|WESTERN EUROPE                     |35            |\n",
      "|BALTICS                            |35            |\n",
      "|ASIA (EX. NEAR EAST)               |29            |\n",
      "|NORTHERN AFRICA                    |35            |\n",
      "|C.W. OF IND. STATES                |20            |\n",
      "|LATIN AMER. & CARIB                |23            |\n",
      "+-----------------------------------+--------------+\n",
      "\n"
     ]
    }
   ],
   "source": [
    "spark.sql(\"select distinct region,length(region) from countries\").show(100,False)"
   ]
  },
  {
   "cell_type": "markdown",
   "metadata": {},
   "source": [
    "**Поработаем смешанно - SQL + dataframe**"
   ]
  },
  {
   "cell_type": "code",
   "execution_count": 12,
   "metadata": {},
   "outputs": [
    {
     "name": "stdout",
     "output_type": "stream",
     "text": [
      "+-------+--------------------+----------+\n",
      "|country|              region|population|\n",
      "+-------+--------------------+----------+\n",
      "|Russia |C.W. OF IND. STATES | 142893540|\n",
      "+-------+--------------------+----------+\n",
      "\n"
     ]
    }
   ],
   "source": [
    "spark.sql(\"select country,region,population from countries\") \\\n",
    "    .filter(f.col('country').startswith('Russia')) \\\n",
    "    .show()"
   ]
  },
  {
   "cell_type": "markdown",
   "metadata": {},
   "source": [
    "**Logical plans**\n",
    "\n",
    "Посмотрим на логические планы выполнения SQL запроса и dataframe и убедимся в их \"похожести\" (найти различия, конечно, можно, но они - косметические). "
   ]
  },
  {
   "cell_type": "code",
   "execution_count": 21,
   "metadata": {},
   "outputs": [
    {
     "name": "stdout",
     "output_type": "stream",
     "text": [
      "+--------------------+----------+\n",
      "|              Region|ncountries|\n",
      "+--------------------+----------+\n",
      "|SUB-SAHARAN AFRIC...|        51|\n",
      "|LATIN AMER. & CAR...|        45|\n",
      "|ASIA (EX. NEAR EA...|        28|\n",
      "|WESTERN EUROPE   ...|        28|\n",
      "|OCEANIA          ...|        21|\n",
      "|NEAR EAST        ...|        16|\n",
      "|EASTERN EUROPE   ...|        12|\n",
      "|C.W. OF IND. STATES |        12|\n",
      "|NORTHERN AFRICA  ...|         6|\n",
      "|NORTHERN AMERICA ...|         5|\n",
      "|BALTICS          ...|         3|\n",
      "+--------------------+----------+\n",
      "\n",
      "+--------------------+----------+\n",
      "|              region|ncountries|\n",
      "+--------------------+----------+\n",
      "|SUB-SAHARAN AFRIC...|        51|\n",
      "|LATIN AMER. & CAR...|        45|\n",
      "|ASIA (EX. NEAR EA...|        28|\n",
      "|WESTERN EUROPE   ...|        28|\n",
      "|OCEANIA          ...|        21|\n",
      "|NEAR EAST        ...|        16|\n",
      "|EASTERN EUROPE   ...|        12|\n",
      "|C.W. OF IND. STATES |        12|\n",
      "|NORTHERN AFRICA  ...|         6|\n",
      "|NORTHERN AMERICA ...|         5|\n",
      "|BALTICS          ...|         3|\n",
      "+--------------------+----------+\n",
      "\n",
      "== Physical Plan ==\n",
      "*(3) Sort [ncountries#375L DESC NULLS LAST], true, 0\n",
      "+- Exchange rangepartitioning(ncountries#375L DESC NULLS LAST, 200)\n",
      "   +- *(2) HashAggregate(keys=[Region#86], functions=[count(1)])\n",
      "      +- Exchange hashpartitioning(Region#86, 200)\n",
      "         +- *(1) HashAggregate(keys=[Region#86], functions=[partial_count(1)])\n",
      "            +- *(1) FileScan csv [Region#86] Batched: false, Format: CSV, Location: InMemoryFileIndex[file:/mnt/c/Users/mk/projects/SkillFactory/module5_spark/data/countries of the ..., PartitionFilters: [], PushedFilters: [], ReadSchema: struct<Region:string>\n",
      "== Physical Plan ==\n",
      "*(3) Sort [ncountries#346L DESC NULLS LAST], true, 0\n",
      "+- Exchange rangepartitioning(ncountries#346L DESC NULLS LAST, 200)\n",
      "   +- *(2) HashAggregate(keys=[region#86], functions=[count(1)])\n",
      "      +- Exchange hashpartitioning(region#86, 200)\n",
      "         +- *(1) HashAggregate(keys=[region#86], functions=[partial_count(1)])\n",
      "            +- *(1) FileScan csv [Region#86] Batched: false, Format: CSV, Location: InMemoryFileIndex[file:/mnt/c/Users/mk/projects/SkillFactory/module5_spark/data/countries of the ..., PartitionFilters: [], PushedFilters: [], ReadSchema: struct<Region:string>\n"
     ]
    }
   ],
   "source": [
    "sqlQ = spark.sql(\"select region,count(*) as ncountries from countries group by region order by ncountries desc\")\n",
    "dfQ = cdf.groupBy('Region').count().withColumnRenamed(\"count\",\"ncountries\").sort(f.desc('ncountries'))\n",
    "dfQ.show()\n",
    "sqlQ.show()\n",
    "dfQ.explain()\n",
    "sqlQ.explain()"
   ]
  },
  {
   "cell_type": "code",
   "execution_count": 22,
   "metadata": {},
   "outputs": [],
   "source": [
    "spark.stop()"
   ]
  }
 ],
 "metadata": {
  "kernelspec": {
   "display_name": "Python 3",
   "language": "python",
   "name": "python3"
  },
  "language_info": {
   "codemirror_mode": {
    "name": "ipython",
    "version": 3
   },
   "file_extension": ".py",
   "mimetype": "text/x-python",
   "name": "python",
   "nbconvert_exporter": "python",
   "pygments_lexer": "ipython3",
   "version": "3.5.2"
  }
 },
 "nbformat": 4,
 "nbformat_minor": 2
}
