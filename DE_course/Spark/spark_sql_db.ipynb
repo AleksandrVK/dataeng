{
 "cells": [
  {
   "cell_type": "code",
   "execution_count": 1,
   "metadata": {},
   "outputs": [],
   "source": [
    "# настраиваем окружение для работы spark\n",
    "import os\n",
    "\n",
    "os.environ[\"SPARK_HOME\"] = \"/opt/cloudera/parcels/CDH-6.3.1-1.cdh6.3.1.p0.1470567/lib/spark\"\n",
    "os.environ[\"PYSPARK_PYTHON\"] = \"/usr/bin/python3\"\n",
    "os.environ[\"PYSPARK_DRIVER_PYTHON\"] = \"python3\"\n",
    "os.environ[\"HADOOP_CONF_DIR\"] = \"/etc/hadoop/conf\"\n",
    "#os.environ[\"PYSPARK_SUBMIT_ARGS\"] = \"--executor-memory 2G --num-executors 16 --executor-cores 2 pyspark-shell\"\n",
    "os.environ[\"PYSPARK_SUBMIT_ARGS\"] = \"\"\"--driver-class-path /usr/share/java/postgresql.jar \n",
    "--jars /usr/share/java/postgresql.jar --executor-memory 600M --driver-memory 1G --num-executors 1 pyspark-shell\"\"\"\n"
   ]
  },
  {
   "cell_type": "code",
   "execution_count": 2,
   "metadata": {},
   "outputs": [],
   "source": [
    "# добавляем модуль в путь\n",
    "import sys\n",
    "sys.path.append('/opt/cloudera/parcels/CDH-6.3.1-1.cdh6.3.1.p0.1470567/lib/spark/python')"
   ]
  },
  {
   "cell_type": "code",
   "execution_count": 3,
   "metadata": {},
   "outputs": [],
   "source": [
    "from pyspark.sql import SparkSession\n",
    "\n",
    "#master = \"local\"\n",
    "master = \"yarn\"\n",
    "spark = SparkSession.builder.master(master).appName(\"spark_test\").enableHiveSupport().getOrCreate()"
   ]
  },
  {
   "cell_type": "code",
   "execution_count": 4,
   "metadata": {},
   "outputs": [],
   "source": [
    "df = spark.read.format(\"jdbc\") \\\n",
    "    .option(\"url\",\"jdbc:postgresql://localhost:7432/scm\") \\\n",
    "    .option(\"dbtable\",\"hosts\") \\\n",
    "    .option(\"user\",\"cloudera-scm\") \\\n",
    "    .option(\"password\",\"2MhalIGcSp\") \\\n",
    "    .load()"
   ]
  },
  {
   "cell_type": "code",
   "execution_count": 5,
   "metadata": {},
   "outputs": [
    {
     "name": "stdout",
     "output_type": "stream",
     "text": [
      "+-------+-----------------------+--------------------+---------+----------+--------+------+-------------------+-----------------+------------------+----------+---------+--------------------+-----------+-----------------+--------------+\n",
      "|host_id|optimistic_lock_version|     host_identifier|     name|ip_address| rack_id|status|config_container_id|maintenance_count|decommission_count|cluster_id|num_cores|total_phys_mem_bytes|public_name|public_ip_address|cloud_provider|\n",
      "+-------+-----------------------+--------------------+---------+----------+--------+------+-------------------+-----------------+------------------+----------+---------+--------------------+-----------+-----------------+--------------+\n",
      "|      1|                     34|a47cfc74-1775-496...|localhost| 127.0.0.1|/default|    NA|                  1|                0|                 0|         1|        2|         10514747392|       null|             null|          null|\n",
      "+-------+-----------------------+--------------------+---------+----------+--------+------+-------------------+-----------------+------------------+----------+---------+--------------------+-----------+-----------------+--------------+\n",
      "\n"
     ]
    }
   ],
   "source": [
    "df.show()"
   ]
  },
  {
   "cell_type": "code",
   "execution_count": 6,
   "metadata": {},
   "outputs": [],
   "source": [
    "df.write.format(\"parquet\") \\\n",
    "    .mode(\"append\") \\\n",
    "    .saveAsTable(\"sp_hosts\")"
   ]
  },
  {
   "cell_type": "code",
   "execution_count": 7,
   "metadata": {},
   "outputs": [],
   "source": [
    "spark.stop()"
   ]
  }
 ],
 "metadata": {
  "kernelspec": {
   "display_name": "Python 3",
   "language": "python",
   "name": "python3"
  },
  "language_info": {
   "codemirror_mode": {
    "name": "ipython",
    "version": 3
   },
   "file_extension": ".py",
   "mimetype": "text/x-python",
   "name": "python",
   "nbconvert_exporter": "python",
   "pygments_lexer": "ipython3",
   "version": "3.5.2"
  }
 },
 "nbformat": 4,
 "nbformat_minor": 2
}
